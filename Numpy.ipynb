{
  "nbformat": 4,
  "nbformat_minor": 0,
  "metadata": {
    "colab": {
      "provenance": []
    },
    "kernelspec": {
      "name": "python3",
      "display_name": "Python 3"
    },
    "language_info": {
      "name": "python"
    }
  },
  "cells": [
    {
      "cell_type": "code",
      "source": [],
      "metadata": {
        "id": "k53_owxqp55v"
      },
      "execution_count": null,
      "outputs": []
    },
    {
      "cell_type": "markdown",
      "source": [
        "- Numpy array are mutable.\n",
        "- NumPy arrays do not typically allow a mixture of different data types within a single array. NumPy arrays are designed to be homogeneous, meaning all elements within a given array must be of the same data type. This is a key difference from Python lists, which can contain elements of various types."
      ],
      "metadata": {
        "id": "IE1Hgaqk5W9-"
      }
    },
    {
      "cell_type": "code",
      "source": [
        "# Exam\n",
        "arr1 = np.array([[1],[2],[3]])\n",
        "print(arr1.shape)\n",
        "arr2 = np.array([1,2,3])\n",
        "print(arr2.shape)\n",
        "arr1*arr2"
      ],
      "metadata": {
        "colab": {
          "base_uri": "https://localhost:8080/"
        },
        "id": "VG12aQGs7qFr",
        "outputId": "b79b77c2-9424-44ad-db51-e2fb04b7453a"
      },
      "execution_count": null,
      "outputs": [
        {
          "output_type": "stream",
          "name": "stdout",
          "text": [
            "(3, 1)\n",
            "(3,)\n"
          ]
        },
        {
          "output_type": "execute_result",
          "data": {
            "text/plain": [
              "array([[1, 2, 3],\n",
              "       [2, 4, 6],\n",
              "       [3, 6, 9]])"
            ]
          },
          "metadata": {},
          "execution_count": 2
        }
      ]
    },
    {
      "cell_type": "code",
      "execution_count": null,
      "metadata": {
        "id": "4xdLSTABmWzA"
      },
      "outputs": [],
      "source": [
        "import numpy as np"
      ]
    },
    {
      "cell_type": "code",
      "source": [
        "arr = np.array([1,2,3,4])\n",
        "print(arr)\n",
        "print(type(arr))\n",
        "print(arr.shape)\n",
        "print(arr.size)"
      ],
      "metadata": {
        "colab": {
          "base_uri": "https://localhost:8080/"
        },
        "id": "s8Zm-HXEm5J6",
        "outputId": "f46b5e45-2432-4f3d-a95f-58697a31d1db"
      },
      "execution_count": null,
      "outputs": [
        {
          "output_type": "stream",
          "name": "stdout",
          "text": [
            "[1 2 3 4]\n",
            "<class 'numpy.ndarray'>\n",
            "(4,)\n",
            "4\n"
          ]
        }
      ]
    },
    {
      "cell_type": "code",
      "source": [
        "l = [1,2,3,4]\n",
        "print(l)\n",
        "print(type(l))\n"
      ],
      "metadata": {
        "colab": {
          "base_uri": "https://localhost:8080/"
        },
        "id": "E76wTGdEnDI-",
        "outputId": "18f036b4-e9cd-47a2-dced-b052a15691da"
      },
      "execution_count": null,
      "outputs": [
        {
          "output_type": "stream",
          "name": "stdout",
          "text": [
            "[1, 2, 3, 4]\n",
            "<class 'list'>\n"
          ]
        }
      ]
    },
    {
      "cell_type": "code",
      "source": [
        "l1 = [1,2,\"python\"]"
      ],
      "metadata": {
        "id": "3-rnzDvknRt4"
      },
      "execution_count": null,
      "outputs": []
    },
    {
      "cell_type": "code",
      "source": [
        "arr2 = np.array(l1)\n",
        "print(arr2)\n",
        "print(type(arr2))"
      ],
      "metadata": {
        "colab": {
          "base_uri": "https://localhost:8080/"
        },
        "id": "IkxCXHkAoAph",
        "outputId": "00c5db1d-f172-4994-aa4d-a54fdbef5103"
      },
      "execution_count": null,
      "outputs": [
        {
          "output_type": "stream",
          "name": "stdout",
          "text": [
            "['1' '2' 'python']\n",
            "<class 'numpy.ndarray'>\n"
          ]
        }
      ]
    },
    {
      "cell_type": "code",
      "source": [
        "arr3 = np.array([[1,2],[3,4]])\n",
        "print(arr3)\n",
        "print(type(arr3))\n",
        "print(arr3.size)"
      ],
      "metadata": {
        "colab": {
          "base_uri": "https://localhost:8080/"
        },
        "id": "gaGUytnpojLB",
        "outputId": "b03851f4-e885-41a5-98f8-6b6dd402dd6e"
      },
      "execution_count": null,
      "outputs": [
        {
          "output_type": "stream",
          "name": "stdout",
          "text": [
            "[[1 2]\n",
            " [3 4]]\n",
            "<class 'numpy.ndarray'>\n",
            "4\n"
          ]
        }
      ]
    },
    {
      "cell_type": "code",
      "source": [
        "arr4 = np.array([[1,2],[3,4]],dtype=float)\n",
        "print(arr4)\n",
        "print(type(arr4))"
      ],
      "metadata": {
        "colab": {
          "base_uri": "https://localhost:8080/"
        },
        "id": "hi_N6C48pbYj",
        "outputId": "527f8e1a-583d-4343-8164-ec0173ea3b19"
      },
      "execution_count": null,
      "outputs": [
        {
          "output_type": "stream",
          "name": "stdout",
          "text": [
            "[[1. 2.]\n",
            " [3. 4.]]\n",
            "<class 'numpy.ndarray'>\n"
          ]
        }
      ]
    },
    {
      "cell_type": "code",
      "source": [
        "# It returns number of rows in tuples\n"
      ],
      "metadata": {
        "id": "qo9m5RWrqXx_"
      },
      "execution_count": null,
      "outputs": []
    },
    {
      "cell_type": "code",
      "source": [
        "ar = np.array([[1,3],[4,5],[6,9]])\n",
        "print(ar)\n",
        "print(type(ar))\n",
        "print(ar.shape)\n",
        "print(ar.size)"
      ],
      "metadata": {
        "colab": {
          "base_uri": "https://localhost:8080/"
        },
        "id": "7HJ9w7sLTToS",
        "outputId": "40cd368a-69af-4ffd-85e2-6f948acf958e"
      },
      "execution_count": null,
      "outputs": [
        {
          "output_type": "stream",
          "name": "stdout",
          "text": [
            "[[1 3]\n",
            " [4 5]\n",
            " [6 9]]\n",
            "<class 'numpy.ndarray'>\n",
            "(3, 2)\n",
            "6\n"
          ]
        }
      ]
    },
    {
      "cell_type": "code",
      "source": [
        "ar1 = np.array([[[1,3],[4,5],[6,9]]])\n",
        "print(ar1)\n",
        "print(type(ar1))\n",
        "print(ar1.shape)\n",
        "print(ar1.size)"
      ],
      "metadata": {
        "colab": {
          "base_uri": "https://localhost:8080/"
        },
        "id": "LATO7RSZT57K",
        "outputId": "d07d6616-bd8d-4101-b546-dd9c88fec739"
      },
      "execution_count": null,
      "outputs": [
        {
          "output_type": "stream",
          "name": "stdout",
          "text": [
            "[[[1 3]\n",
            "  [4 5]\n",
            "  [6 9]]]\n",
            "<class 'numpy.ndarray'>\n",
            "(1, 3, 2)\n",
            "6\n"
          ]
        }
      ]
    },
    {
      "cell_type": "code",
      "source": [
        "ar2 = np.array([[[1,3],[4,5]],[6,9]])\n",
        "print(ar2)\n",
        "print(type(ar2))\n",
        "print(ar2.shape)"
      ],
      "metadata": {
        "colab": {
          "base_uri": "https://localhost:8080/",
          "height": 228
        },
        "id": "9PWynWeRUc0w",
        "outputId": "9c3f6348-f4e0-422c-9706-b319f76a13d0"
      },
      "execution_count": null,
      "outputs": [
        {
          "output_type": "error",
          "ename": "ValueError",
          "evalue": "setting an array element with a sequence. The requested array has an inhomogeneous shape after 2 dimensions. The detected shape was (2, 2) + inhomogeneous part.",
          "traceback": [
            "\u001b[0;31m---------------------------------------------------------------------------\u001b[0m",
            "\u001b[0;31mValueError\u001b[0m                                Traceback (most recent call last)",
            "\u001b[0;32m<ipython-input-6-962c14b6e18d>\u001b[0m in \u001b[0;36m<cell line: 0>\u001b[0;34m()\u001b[0m\n\u001b[0;32m----> 1\u001b[0;31m \u001b[0mar2\u001b[0m \u001b[0;34m=\u001b[0m \u001b[0mnp\u001b[0m\u001b[0;34m.\u001b[0m\u001b[0marray\u001b[0m\u001b[0;34m(\u001b[0m\u001b[0;34m[\u001b[0m\u001b[0;34m[\u001b[0m\u001b[0;34m[\u001b[0m\u001b[0;36m1\u001b[0m\u001b[0;34m,\u001b[0m\u001b[0;36m3\u001b[0m\u001b[0;34m]\u001b[0m\u001b[0;34m,\u001b[0m\u001b[0;34m[\u001b[0m\u001b[0;36m4\u001b[0m\u001b[0;34m,\u001b[0m\u001b[0;36m5\u001b[0m\u001b[0;34m]\u001b[0m\u001b[0;34m]\u001b[0m\u001b[0;34m,\u001b[0m\u001b[0;34m[\u001b[0m\u001b[0;36m6\u001b[0m\u001b[0;34m,\u001b[0m\u001b[0;36m9\u001b[0m\u001b[0;34m]\u001b[0m\u001b[0;34m]\u001b[0m\u001b[0;34m)\u001b[0m\u001b[0;34m\u001b[0m\u001b[0;34m\u001b[0m\u001b[0m\n\u001b[0m\u001b[1;32m      2\u001b[0m \u001b[0mprint\u001b[0m\u001b[0;34m(\u001b[0m\u001b[0mar2\u001b[0m\u001b[0;34m)\u001b[0m\u001b[0;34m\u001b[0m\u001b[0;34m\u001b[0m\u001b[0m\n\u001b[1;32m      3\u001b[0m \u001b[0mprint\u001b[0m\u001b[0;34m(\u001b[0m\u001b[0mtype\u001b[0m\u001b[0;34m(\u001b[0m\u001b[0mar2\u001b[0m\u001b[0;34m)\u001b[0m\u001b[0;34m)\u001b[0m\u001b[0;34m\u001b[0m\u001b[0;34m\u001b[0m\u001b[0m\n\u001b[1;32m      4\u001b[0m \u001b[0mprint\u001b[0m\u001b[0;34m(\u001b[0m\u001b[0mar2\u001b[0m\u001b[0;34m.\u001b[0m\u001b[0mshape\u001b[0m\u001b[0;34m)\u001b[0m\u001b[0;34m\u001b[0m\u001b[0;34m\u001b[0m\u001b[0m\n",
            "\u001b[0;31mValueError\u001b[0m: setting an array element with a sequence. The requested array has an inhomogeneous shape after 2 dimensions. The detected shape was (2, 2) + inhomogeneous part."
          ]
        }
      ]
    },
    {
      "cell_type": "code",
      "source": [
        "a2 = np.array([[[1,3],[4,5]],[[6,9]]])\n",
        "print(a2)\n",
        "print(type(a2))\n",
        "print(a2.shape)"
      ],
      "metadata": {
        "colab": {
          "base_uri": "https://localhost:8080/",
          "height": 211
        },
        "id": "zhGPHDOzuGe0",
        "outputId": "f34bb04b-7d3b-4450-f9c6-cc5edc3a8860"
      },
      "execution_count": null,
      "outputs": [
        {
          "output_type": "error",
          "ename": "ValueError",
          "evalue": "setting an array element with a sequence. The requested array has an inhomogeneous shape after 1 dimensions. The detected shape was (2,) + inhomogeneous part.",
          "traceback": [
            "\u001b[0;31m---------------------------------------------------------------------------\u001b[0m",
            "\u001b[0;31mValueError\u001b[0m                                Traceback (most recent call last)",
            "\u001b[0;32m/tmp/ipython-input-3-3855641713.py\u001b[0m in \u001b[0;36m<cell line: 0>\u001b[0;34m()\u001b[0m\n\u001b[0;32m----> 1\u001b[0;31m \u001b[0ma2\u001b[0m \u001b[0;34m=\u001b[0m \u001b[0mnp\u001b[0m\u001b[0;34m.\u001b[0m\u001b[0marray\u001b[0m\u001b[0;34m(\u001b[0m\u001b[0;34m[\u001b[0m\u001b[0;34m[\u001b[0m\u001b[0;34m[\u001b[0m\u001b[0;36m1\u001b[0m\u001b[0;34m,\u001b[0m\u001b[0;36m3\u001b[0m\u001b[0;34m]\u001b[0m\u001b[0;34m,\u001b[0m\u001b[0;34m[\u001b[0m\u001b[0;36m4\u001b[0m\u001b[0;34m,\u001b[0m\u001b[0;36m5\u001b[0m\u001b[0;34m]\u001b[0m\u001b[0;34m]\u001b[0m\u001b[0;34m,\u001b[0m\u001b[0;34m[\u001b[0m\u001b[0;34m[\u001b[0m\u001b[0;36m6\u001b[0m\u001b[0;34m,\u001b[0m\u001b[0;36m9\u001b[0m\u001b[0;34m]\u001b[0m\u001b[0;34m]\u001b[0m\u001b[0;34m]\u001b[0m\u001b[0;34m)\u001b[0m\u001b[0;34m\u001b[0m\u001b[0;34m\u001b[0m\u001b[0m\n\u001b[0m\u001b[1;32m      2\u001b[0m \u001b[0mprint\u001b[0m\u001b[0;34m(\u001b[0m\u001b[0ma2\u001b[0m\u001b[0;34m)\u001b[0m\u001b[0;34m\u001b[0m\u001b[0;34m\u001b[0m\u001b[0m\n\u001b[1;32m      3\u001b[0m \u001b[0mprint\u001b[0m\u001b[0;34m(\u001b[0m\u001b[0mtype\u001b[0m\u001b[0;34m(\u001b[0m\u001b[0ma2\u001b[0m\u001b[0;34m)\u001b[0m\u001b[0;34m)\u001b[0m\u001b[0;34m\u001b[0m\u001b[0;34m\u001b[0m\u001b[0m\n\u001b[1;32m      4\u001b[0m \u001b[0mprint\u001b[0m\u001b[0;34m(\u001b[0m\u001b[0ma2\u001b[0m\u001b[0;34m.\u001b[0m\u001b[0mshape\u001b[0m\u001b[0;34m)\u001b[0m\u001b[0;34m\u001b[0m\u001b[0;34m\u001b[0m\u001b[0m\n",
            "\u001b[0;31mValueError\u001b[0m: setting an array element with a sequence. The requested array has an inhomogeneous shape after 1 dimensions. The detected shape was (2,) + inhomogeneous part."
          ]
        }
      ]
    },
    {
      "cell_type": "code",
      "source": [
        "a1 = np.array([[[1,3],[4,5]],[[6],[9]]])\n",
        "print(a1)\n",
        "print(type(a1))\n",
        "print(a1.shape)"
      ],
      "metadata": {
        "colab": {
          "base_uri": "https://localhost:8080/",
          "height": 211
        },
        "id": "iucTdYvWuc6b",
        "outputId": "25292836-57f9-441f-9edf-2a875d3a2f04"
      },
      "execution_count": null,
      "outputs": [
        {
          "output_type": "error",
          "ename": "ValueError",
          "evalue": "setting an array element with a sequence. The requested array has an inhomogeneous shape after 2 dimensions. The detected shape was (2, 2) + inhomogeneous part.",
          "traceback": [
            "\u001b[0;31m---------------------------------------------------------------------------\u001b[0m",
            "\u001b[0;31mValueError\u001b[0m                                Traceback (most recent call last)",
            "\u001b[0;32m/tmp/ipython-input-4-1902565051.py\u001b[0m in \u001b[0;36m<cell line: 0>\u001b[0;34m()\u001b[0m\n\u001b[0;32m----> 1\u001b[0;31m \u001b[0ma1\u001b[0m \u001b[0;34m=\u001b[0m \u001b[0mnp\u001b[0m\u001b[0;34m.\u001b[0m\u001b[0marray\u001b[0m\u001b[0;34m(\u001b[0m\u001b[0;34m[\u001b[0m\u001b[0;34m[\u001b[0m\u001b[0;34m[\u001b[0m\u001b[0;36m1\u001b[0m\u001b[0;34m,\u001b[0m\u001b[0;36m3\u001b[0m\u001b[0;34m]\u001b[0m\u001b[0;34m,\u001b[0m\u001b[0;34m[\u001b[0m\u001b[0;36m4\u001b[0m\u001b[0;34m,\u001b[0m\u001b[0;36m5\u001b[0m\u001b[0;34m]\u001b[0m\u001b[0;34m]\u001b[0m\u001b[0;34m,\u001b[0m\u001b[0;34m[\u001b[0m\u001b[0;34m[\u001b[0m\u001b[0;36m6\u001b[0m\u001b[0;34m]\u001b[0m\u001b[0;34m,\u001b[0m\u001b[0;34m[\u001b[0m\u001b[0;36m9\u001b[0m\u001b[0;34m]\u001b[0m\u001b[0;34m]\u001b[0m\u001b[0;34m]\u001b[0m\u001b[0;34m)\u001b[0m\u001b[0;34m\u001b[0m\u001b[0;34m\u001b[0m\u001b[0m\n\u001b[0m\u001b[1;32m      2\u001b[0m \u001b[0mprint\u001b[0m\u001b[0;34m(\u001b[0m\u001b[0ma1\u001b[0m\u001b[0;34m)\u001b[0m\u001b[0;34m\u001b[0m\u001b[0;34m\u001b[0m\u001b[0m\n\u001b[1;32m      3\u001b[0m \u001b[0mprint\u001b[0m\u001b[0;34m(\u001b[0m\u001b[0mtype\u001b[0m\u001b[0;34m(\u001b[0m\u001b[0ma1\u001b[0m\u001b[0;34m)\u001b[0m\u001b[0;34m)\u001b[0m\u001b[0;34m\u001b[0m\u001b[0;34m\u001b[0m\u001b[0m\n\u001b[1;32m      4\u001b[0m \u001b[0mprint\u001b[0m\u001b[0;34m(\u001b[0m\u001b[0ma1\u001b[0m\u001b[0;34m.\u001b[0m\u001b[0mshape\u001b[0m\u001b[0;34m)\u001b[0m\u001b[0;34m\u001b[0m\u001b[0;34m\u001b[0m\u001b[0m\n",
            "\u001b[0;31mValueError\u001b[0m: setting an array element with a sequence. The requested array has an inhomogeneous shape after 2 dimensions. The detected shape was (2, 2) + inhomogeneous part."
          ]
        }
      ]
    },
    {
      "cell_type": "code",
      "source": [
        "ar3 = np.array([[[1,3],[4,5]],[[6,9],[5,9]]])\n",
        "print(ar3)\n",
        "print(type(ar3))\n",
        "print(ar3.shape)"
      ],
      "metadata": {
        "colab": {
          "base_uri": "https://localhost:8080/"
        },
        "id": "TR5IHGZ6U_MZ",
        "outputId": "658a9fa5-6cbb-41d3-dae1-479093ca7b8e"
      },
      "execution_count": null,
      "outputs": [
        {
          "output_type": "stream",
          "name": "stdout",
          "text": [
            "[[[1 3]\n",
            "  [4 5]]\n",
            "\n",
            " [[6 9]\n",
            "  [5 9]]]\n",
            "<class 'numpy.ndarray'>\n",
            "(2, 2, 2)\n"
          ]
        }
      ]
    },
    {
      "cell_type": "code",
      "source": [
        "# Numpy array attributes\n",
        "print(arr4)\n",
        "print(arr4.shape)"
      ],
      "metadata": {
        "colab": {
          "base_uri": "https://localhost:8080/"
        },
        "id": "zR6TJpVvp8Mk",
        "outputId": "df27adfd-b5e7-465c-daff-7b959c4f62c6"
      },
      "execution_count": null,
      "outputs": [
        {
          "output_type": "stream",
          "name": "stdout",
          "text": [
            "[[1. 2.]\n",
            " [3. 4.]]\n",
            "(2, 2)\n"
          ]
        }
      ]
    },
    {
      "cell_type": "code",
      "source": [
        "# Reshape function\n",
        "arr5 = arr4.reshape(4,1)\n",
        "print(arr5)"
      ],
      "metadata": {
        "colab": {
          "base_uri": "https://localhost:8080/"
        },
        "id": "dfVRkalsqt-z",
        "outputId": "93afa0f7-8c87-4941-9133-bedbc67ad7a3"
      },
      "execution_count": null,
      "outputs": [
        {
          "output_type": "stream",
          "name": "stdout",
          "text": [
            "[[1.]\n",
            " [2.]\n",
            " [3.]\n",
            " [4.]]\n"
          ]
        }
      ]
    },
    {
      "cell_type": "code",
      "source": [
        "arrr = arr4.reshape(4,)\n",
        "print(arrr)"
      ],
      "metadata": {
        "colab": {
          "base_uri": "https://localhost:8080/"
        },
        "id": "1BBHUScmENlF",
        "outputId": "259ac81e-c2e1-441e-b8be-1ccb4b3f49e3"
      },
      "execution_count": null,
      "outputs": [
        {
          "output_type": "stream",
          "name": "stdout",
          "text": [
            "[1. 2. 3. 4.]\n"
          ]
        }
      ]
    },
    {
      "cell_type": "code",
      "source": [
        "arr6 = arr4.reshape(2,3)\n",
        "print(arr6)"
      ],
      "metadata": {
        "colab": {
          "base_uri": "https://localhost:8080/",
          "height": 158
        },
        "id": "s2JRBo1iq_Az",
        "outputId": "670d7d6a-d25d-485b-b650-7e359fcc1d9b"
      },
      "execution_count": null,
      "outputs": [
        {
          "output_type": "error",
          "ename": "ValueError",
          "evalue": "cannot reshape array of size 4 into shape (2,3)",
          "traceback": [
            "\u001b[0;31m---------------------------------------------------------------------------\u001b[0m",
            "\u001b[0;31mValueError\u001b[0m                                Traceback (most recent call last)",
            "\u001b[0;32m<ipython-input-12-2f53c8f51e6b>\u001b[0m in \u001b[0;36m<cell line: 0>\u001b[0;34m()\u001b[0m\n\u001b[0;32m----> 1\u001b[0;31m \u001b[0marr6\u001b[0m \u001b[0;34m=\u001b[0m \u001b[0marr4\u001b[0m\u001b[0;34m.\u001b[0m\u001b[0mreshape\u001b[0m\u001b[0;34m(\u001b[0m\u001b[0;36m2\u001b[0m\u001b[0;34m,\u001b[0m\u001b[0;36m3\u001b[0m\u001b[0;34m)\u001b[0m\u001b[0;34m\u001b[0m\u001b[0;34m\u001b[0m\u001b[0m\n\u001b[0m\u001b[1;32m      2\u001b[0m \u001b[0mprint\u001b[0m\u001b[0;34m(\u001b[0m\u001b[0marr6\u001b[0m\u001b[0;34m)\u001b[0m\u001b[0;34m\u001b[0m\u001b[0;34m\u001b[0m\u001b[0m\n",
            "\u001b[0;31mValueError\u001b[0m: cannot reshape array of size 4 into shape (2,3)"
          ]
        }
      ]
    },
    {
      "cell_type": "code",
      "source": [
        "arr6 = arr4.reshape(1,4)\n",
        "print(arr6)\n",
        "print(arr6.shape)"
      ],
      "metadata": {
        "colab": {
          "base_uri": "https://localhost:8080/"
        },
        "id": "z6vK7rMfrNV9",
        "outputId": "a878aeb3-755f-40ef-934c-5ed191ca2e51"
      },
      "execution_count": null,
      "outputs": [
        {
          "output_type": "stream",
          "name": "stdout",
          "text": [
            "[[1. 2. 3. 4.]]\n",
            "(1, 4)\n"
          ]
        }
      ]
    },
    {
      "cell_type": "code",
      "source": [
        "# ndim - find the dimension of array"
      ],
      "metadata": {
        "id": "hKZMjRfZrg9Y"
      },
      "execution_count": null,
      "outputs": []
    },
    {
      "cell_type": "code",
      "source": [
        "print(arr4.ndim)"
      ],
      "metadata": {
        "colab": {
          "base_uri": "https://localhost:8080/"
        },
        "id": "RI73kYRYrwIw",
        "outputId": "0cbb661a-9586-4262-e530-dccb9e21431a"
      },
      "execution_count": null,
      "outputs": [
        {
          "output_type": "stream",
          "name": "stdout",
          "text": [
            "2\n"
          ]
        }
      ]
    },
    {
      "cell_type": "code",
      "source": [
        "print(arr6.ndim)"
      ],
      "metadata": {
        "colab": {
          "base_uri": "https://localhost:8080/"
        },
        "id": "zFoHgeBPr2vS",
        "outputId": "979b37a1-e4a3-4938-bbe9-5f271fe974c6"
      },
      "execution_count": null,
      "outputs": [
        {
          "output_type": "stream",
          "name": "stdout",
          "text": [
            "2\n"
          ]
        }
      ]
    },
    {
      "cell_type": "code",
      "source": [
        "arr7 = np.array([1,2,5,7])\n",
        "print(arr7.ndim)"
      ],
      "metadata": {
        "colab": {
          "base_uri": "https://localhost:8080/"
        },
        "id": "WGQvl02MsCom",
        "outputId": "67586f5e-50bf-4699-875e-283132035a8c"
      },
      "execution_count": null,
      "outputs": [
        {
          "output_type": "stream",
          "name": "stdout",
          "text": [
            "1\n"
          ]
        }
      ]
    },
    {
      "cell_type": "code",
      "source": [
        "# numpy size : Find the size of array"
      ],
      "metadata": {
        "id": "JeM-Uko8sVW7"
      },
      "execution_count": null,
      "outputs": []
    },
    {
      "cell_type": "code",
      "source": [
        "print(arr7.size)"
      ],
      "metadata": {
        "colab": {
          "base_uri": "https://localhost:8080/"
        },
        "id": "r9LyXgRKsfl_",
        "outputId": "ff92d641-9efb-41f5-d5bc-fe71fa0e7251"
      },
      "execution_count": null,
      "outputs": [
        {
          "output_type": "stream",
          "name": "stdout",
          "text": [
            "4\n"
          ]
        }
      ]
    },
    {
      "cell_type": "code",
      "source": [
        "print(arr4.size)"
      ],
      "metadata": {
        "colab": {
          "base_uri": "https://localhost:8080/"
        },
        "id": "vZBa6f09smdn",
        "outputId": "7e176c21-3b2c-485e-e4fc-817d7a78cc69"
      },
      "execution_count": null,
      "outputs": [
        {
          "output_type": "stream",
          "name": "stdout",
          "text": [
            "4\n"
          ]
        }
      ]
    },
    {
      "cell_type": "code",
      "source": [
        "# numpy arange method : create 1D array"
      ],
      "metadata": {
        "id": "BxZZwsH9st9J"
      },
      "execution_count": null,
      "outputs": []
    },
    {
      "cell_type": "code",
      "source": [
        "a = np.arange(5)\n",
        "print(a)\n",
        "print(a.ndim)\n",
        "print(type(a))\n",
        "print(a.shape)"
      ],
      "metadata": {
        "colab": {
          "base_uri": "https://localhost:8080/"
        },
        "id": "7aAaF2JEs7mq",
        "outputId": "e018c848-30ee-415d-f089-8c3ea6df3b06"
      },
      "execution_count": null,
      "outputs": [
        {
          "output_type": "stream",
          "name": "stdout",
          "text": [
            "[0 1 2 3 4]\n",
            "1\n",
            "<class 'numpy.ndarray'>\n",
            "(5,)\n"
          ]
        }
      ]
    },
    {
      "cell_type": "code",
      "source": [
        "b = np.arange(2,10)\n",
        "print(b)\n",
        "print(b.ndim)\n",
        "print(type(b))\n",
        "print(b.shape)"
      ],
      "metadata": {
        "colab": {
          "base_uri": "https://localhost:8080/"
        },
        "id": "Lc08G3AOtMmE",
        "outputId": "0b392416-8b7c-4348-9e5f-4c7c1bf1bbf5"
      },
      "execution_count": null,
      "outputs": [
        {
          "output_type": "stream",
          "name": "stdout",
          "text": [
            "[2 3 4 5 6 7 8 9]\n",
            "1\n",
            "<class 'numpy.ndarray'>\n",
            "(8,)\n"
          ]
        }
      ]
    },
    {
      "cell_type": "code",
      "source": [
        "c = np.arange(2,20,2, dtype=float)\n",
        "print(c)"
      ],
      "metadata": {
        "colab": {
          "base_uri": "https://localhost:8080/"
        },
        "id": "eMB98YgLtkkP",
        "outputId": "22b3371b-7c2c-4b0b-c1c5-3656c8086ec0"
      },
      "execution_count": null,
      "outputs": [
        {
          "output_type": "stream",
          "name": "stdout",
          "text": [
            "[ 2.  4.  6.  8. 10. 12. 14. 16. 18.]\n"
          ]
        }
      ]
    },
    {
      "cell_type": "code",
      "source": [
        "d = np.arange(2,22,2, dtype=int).reshape(2,5)\n",
        "print(d)"
      ],
      "metadata": {
        "colab": {
          "base_uri": "https://localhost:8080/"
        },
        "id": "Jb5Q0m-nGhZr",
        "outputId": "0d22c0b4-f7e1-462a-cd7b-e45273e66fee"
      },
      "execution_count": null,
      "outputs": [
        {
          "output_type": "stream",
          "name": "stdout",
          "text": [
            "[[ 2  4  6  8 10]\n",
            " [12 14 16 18 20]]\n"
          ]
        }
      ]
    },
    {
      "cell_type": "code",
      "source": [
        "# Operation on array"
      ],
      "metadata": {
        "id": "WyKwvo1nt7_F"
      },
      "execution_count": null,
      "outputs": []
    },
    {
      "cell_type": "code",
      "source": [
        "import numpy as np"
      ],
      "metadata": {
        "id": "xrX2dOQwlmmL"
      },
      "execution_count": null,
      "outputs": []
    },
    {
      "cell_type": "code",
      "source": [
        "a = np.array([1,2,3,9])\n",
        "# Max value\n",
        "print(a.max())"
      ],
      "metadata": {
        "colab": {
          "base_uri": "https://localhost:8080/"
        },
        "id": "0ka9CEMqltIM",
        "outputId": "11e43f8b-ec65-41a4-9ae4-f35ab4f99459"
      },
      "execution_count": null,
      "outputs": [
        {
          "output_type": "stream",
          "name": "stdout",
          "text": [
            "9\n"
          ]
        }
      ]
    },
    {
      "cell_type": "code",
      "source": [
        "print(a.min())"
      ],
      "metadata": {
        "colab": {
          "base_uri": "https://localhost:8080/"
        },
        "id": "Uqp_OxvumGCA",
        "outputId": "16e94673-1dc7-44b1-cb3c-1c299223066f"
      },
      "execution_count": null,
      "outputs": [
        {
          "output_type": "stream",
          "name": "stdout",
          "text": [
            "1\n"
          ]
        }
      ]
    },
    {
      "cell_type": "code",
      "source": [
        "print(a.sum())"
      ],
      "metadata": {
        "colab": {
          "base_uri": "https://localhost:8080/"
        },
        "id": "2sblCKYmmNEp",
        "outputId": "6229b1ea-41a9-415a-d91d-e8778383d570"
      },
      "execution_count": null,
      "outputs": [
        {
          "output_type": "stream",
          "name": "stdout",
          "text": [
            "15\n"
          ]
        }
      ]
    },
    {
      "cell_type": "code",
      "source": [
        "print(a.mean())"
      ],
      "metadata": {
        "colab": {
          "base_uri": "https://localhost:8080/"
        },
        "id": "vTCKMsYxcEoa",
        "outputId": "12922fd0-8df4-420b-e268-00550360d942"
      },
      "execution_count": null,
      "outputs": [
        {
          "output_type": "stream",
          "name": "stdout",
          "text": [
            "3.75\n"
          ]
        }
      ]
    },
    {
      "cell_type": "code",
      "source": [
        "print(a.std())"
      ],
      "metadata": {
        "colab": {
          "base_uri": "https://localhost:8080/"
        },
        "id": "jvoEN7MwcQYh",
        "outputId": "9a3b04bf-be34-46ed-8ec4-06ba788253a3"
      },
      "execution_count": null,
      "outputs": [
        {
          "output_type": "stream",
          "name": "stdout",
          "text": [
            "3.112474899497183\n"
          ]
        }
      ]
    },
    {
      "cell_type": "code",
      "source": [
        "no = np.arange(11)\n",
        "print(no)\n",
        "print(no.sum())\n"
      ],
      "metadata": {
        "colab": {
          "base_uri": "https://localhost:8080/"
        },
        "id": "dQyS2aj3mSHK",
        "outputId": "ecb1da67-388b-499a-b064-3a7d6d30a239"
      },
      "execution_count": null,
      "outputs": [
        {
          "output_type": "stream",
          "name": "stdout",
          "text": [
            "[ 0  1  2  3  4  5  6  7  8  9 10]\n",
            "55\n"
          ]
        }
      ]
    },
    {
      "cell_type": "code",
      "source": [
        "arr1 = np.array([[1,5],[6,9]])\n",
        "arr2 = np.array([[2,9],[8,9]])\n",
        "print(arr1)\n",
        "print(arr2)"
      ],
      "metadata": {
        "colab": {
          "base_uri": "https://localhost:8080/"
        },
        "id": "GHJurR94mhqx",
        "outputId": "86be89bb-8c08-4a82-9e80-cfb02744ce85"
      },
      "execution_count": null,
      "outputs": [
        {
          "output_type": "stream",
          "name": "stdout",
          "text": [
            "[[1 5]\n",
            " [6 9]]\n",
            "[[2 9]\n",
            " [8 9]]\n"
          ]
        }
      ]
    },
    {
      "cell_type": "code",
      "source": [
        "add = arr1 + arr2\n",
        "print(add)"
      ],
      "metadata": {
        "colab": {
          "base_uri": "https://localhost:8080/"
        },
        "id": "HZEVsb2Bm9hM",
        "outputId": "970b16e7-228c-4f65-e388-b17bca941092"
      },
      "execution_count": null,
      "outputs": [
        {
          "output_type": "stream",
          "name": "stdout",
          "text": [
            "[[ 3 14]\n",
            " [14 18]]\n"
          ]
        }
      ]
    },
    {
      "cell_type": "code",
      "source": [
        "sub = arr1 - arr2\n",
        "print(sub)"
      ],
      "metadata": {
        "colab": {
          "base_uri": "https://localhost:8080/"
        },
        "id": "t8_rqTmknFU7",
        "outputId": "898b8b32-cb82-4822-9136-7c19c45674c7"
      },
      "execution_count": null,
      "outputs": [
        {
          "output_type": "stream",
          "name": "stdout",
          "text": [
            "[[-1 -4]\n",
            " [-2  0]]\n"
          ]
        }
      ]
    },
    {
      "cell_type": "code",
      "source": [
        "mul = arr1 * arr2\n",
        "print(mul)"
      ],
      "metadata": {
        "colab": {
          "base_uri": "https://localhost:8080/"
        },
        "id": "a0Ub2l6TnOJI",
        "outputId": "f1497dcb-757c-4b18-cc5e-c34d74ec2e19"
      },
      "execution_count": null,
      "outputs": [
        {
          "output_type": "stream",
          "name": "stdout",
          "text": [
            "[[ 2 45]\n",
            " [48 81]]\n"
          ]
        }
      ]
    },
    {
      "cell_type": "code",
      "source": [
        "div = arr1 / arr2\n",
        "print(div)"
      ],
      "metadata": {
        "colab": {
          "base_uri": "https://localhost:8080/"
        },
        "id": "8P3WZM-ynTiu",
        "outputId": "0a806922-f900-4ced-af23-6d5224d39e5e"
      },
      "execution_count": null,
      "outputs": [
        {
          "output_type": "stream",
          "name": "stdout",
          "text": [
            "[[0.5        0.55555556]\n",
            " [0.75       1.        ]]\n"
          ]
        }
      ]
    },
    {
      "cell_type": "code",
      "source": [
        "# Matrix operation"
      ],
      "metadata": {
        "id": "9t6tvVzwnael"
      },
      "execution_count": null,
      "outputs": []
    },
    {
      "cell_type": "code",
      "source": [
        "mat1 = np.matrix(arr1)\n",
        "print(mat1)\n",
        "print(type(mat1))"
      ],
      "metadata": {
        "colab": {
          "base_uri": "https://localhost:8080/"
        },
        "id": "CmysYLVqn43_",
        "outputId": "649f544e-3971-4510-b671-4cd469c6b03c"
      },
      "execution_count": null,
      "outputs": [
        {
          "output_type": "stream",
          "name": "stdout",
          "text": [
            "[[1 5]\n",
            " [6 9]]\n",
            "<class 'numpy.matrix'>\n"
          ]
        }
      ]
    },
    {
      "cell_type": "code",
      "source": [
        "mat2 = np.mat(arr2)\n",
        "print(mat2)\n",
        "print(type(mat2))"
      ],
      "metadata": {
        "colab": {
          "base_uri": "https://localhost:8080/",
          "height": 297
        },
        "id": "d0IlHGzzoKfS",
        "outputId": "63c7bd03-2acd-4b10-90c4-09954e8e506a"
      },
      "execution_count": null,
      "outputs": [
        {
          "output_type": "error",
          "ename": "AttributeError",
          "evalue": "`np.mat` was removed in the NumPy 2.0 release. Use `np.asmatrix` instead.",
          "traceback": [
            "\u001b[0;31m---------------------------------------------------------------------------\u001b[0m",
            "\u001b[0;31mAttributeError\u001b[0m                            Traceback (most recent call last)",
            "\u001b[0;32m<ipython-input-15-5cc9649ad234>\u001b[0m in \u001b[0;36m<cell line: 0>\u001b[0;34m()\u001b[0m\n\u001b[0;32m----> 1\u001b[0;31m \u001b[0mmat2\u001b[0m \u001b[0;34m=\u001b[0m \u001b[0mnp\u001b[0m\u001b[0;34m.\u001b[0m\u001b[0mmat\u001b[0m\u001b[0;34m(\u001b[0m\u001b[0marr2\u001b[0m\u001b[0;34m)\u001b[0m\u001b[0;34m\u001b[0m\u001b[0;34m\u001b[0m\u001b[0m\n\u001b[0m\u001b[1;32m      2\u001b[0m \u001b[0mprint\u001b[0m\u001b[0;34m(\u001b[0m\u001b[0mmat2\u001b[0m\u001b[0;34m)\u001b[0m\u001b[0;34m\u001b[0m\u001b[0;34m\u001b[0m\u001b[0m\n\u001b[1;32m      3\u001b[0m \u001b[0mprint\u001b[0m\u001b[0;34m(\u001b[0m\u001b[0mtype\u001b[0m\u001b[0;34m(\u001b[0m\u001b[0mmat2\u001b[0m\u001b[0;34m)\u001b[0m\u001b[0;34m)\u001b[0m\u001b[0;34m\u001b[0m\u001b[0;34m\u001b[0m\u001b[0m\n",
            "\u001b[0;32m/usr/local/lib/python3.11/dist-packages/numpy/__init__.py\u001b[0m in \u001b[0;36m__getattr__\u001b[0;34m(attr)\u001b[0m\n\u001b[1;32m    395\u001b[0m \u001b[0;34m\u001b[0m\u001b[0m\n\u001b[1;32m    396\u001b[0m         \u001b[0;32mif\u001b[0m \u001b[0mattr\u001b[0m \u001b[0;32min\u001b[0m \u001b[0m__expired_attributes__\u001b[0m\u001b[0;34m:\u001b[0m\u001b[0;34m\u001b[0m\u001b[0;34m\u001b[0m\u001b[0m\n\u001b[0;32m--> 397\u001b[0;31m             raise AttributeError(\n\u001b[0m\u001b[1;32m    398\u001b[0m                 \u001b[0;34mf\"`np.{attr}` was removed in the NumPy 2.0 release. \"\u001b[0m\u001b[0;34m\u001b[0m\u001b[0;34m\u001b[0m\u001b[0m\n\u001b[1;32m    399\u001b[0m                 \u001b[0;34mf\"{__expired_attributes__[attr]}\"\u001b[0m\u001b[0;34m\u001b[0m\u001b[0;34m\u001b[0m\u001b[0m\n",
            "\u001b[0;31mAttributeError\u001b[0m: `np.mat` was removed in the NumPy 2.0 release. Use `np.asmatrix` instead."
          ]
        }
      ]
    },
    {
      "cell_type": "code",
      "source": [
        "mat2 = np.matrix(arr2)\n",
        "print(mat2)\n",
        "print(type(mat2))"
      ],
      "metadata": {
        "colab": {
          "base_uri": "https://localhost:8080/"
        },
        "id": "BgDkNZwUoZR_",
        "outputId": "be16d147-07b0-4c02-9e59-601088aee7cf"
      },
      "execution_count": null,
      "outputs": [
        {
          "output_type": "stream",
          "name": "stdout",
          "text": [
            "[[2 9]\n",
            " [8 9]]\n",
            "<class 'numpy.matrix'>\n"
          ]
        }
      ]
    },
    {
      "cell_type": "code",
      "source": [
        "print(mat1 + mat2)"
      ],
      "metadata": {
        "colab": {
          "base_uri": "https://localhost:8080/"
        },
        "id": "ULtL5w3qoxPW",
        "outputId": "20fba14b-8567-4d3a-bce0-6cb2bbc98d8b"
      },
      "execution_count": null,
      "outputs": [
        {
          "output_type": "stream",
          "name": "stdout",
          "text": [
            "[[ 3 14]\n",
            " [14 18]]\n"
          ]
        }
      ]
    },
    {
      "cell_type": "code",
      "source": [
        "print(arr1 + arr2)"
      ],
      "metadata": {
        "colab": {
          "base_uri": "https://localhost:8080/"
        },
        "id": "yUvi5aN_o2b2",
        "outputId": "a9ad479a-b7ac-43be-befd-f9371354226c"
      },
      "execution_count": null,
      "outputs": [
        {
          "output_type": "stream",
          "name": "stdout",
          "text": [
            "[[ 3 14]\n",
            " [14 18]]\n"
          ]
        }
      ]
    },
    {
      "cell_type": "code",
      "source": [
        "print(arr1 * arr2)"
      ],
      "metadata": {
        "colab": {
          "base_uri": "https://localhost:8080/"
        },
        "id": "KGXnrHpAo6bd",
        "outputId": "154b4008-f6a2-49ab-ede7-2b769fb1d34f"
      },
      "execution_count": null,
      "outputs": [
        {
          "output_type": "stream",
          "name": "stdout",
          "text": [
            "[[ 2 45]\n",
            " [48 81]]\n"
          ]
        }
      ]
    },
    {
      "cell_type": "code",
      "source": [
        "print(mat1 * mat2)"
      ],
      "metadata": {
        "colab": {
          "base_uri": "https://localhost:8080/"
        },
        "id": "WfLPlxAypAqq",
        "outputId": "03ee1b8e-5181-415a-abb6-70f698112c4c"
      },
      "execution_count": null,
      "outputs": [
        {
          "output_type": "stream",
          "name": "stdout",
          "text": [
            "[[ 42  54]\n",
            " [ 84 135]]\n"
          ]
        }
      ]
    },
    {
      "cell_type": "code",
      "source": [
        "print(arr1.dot(arr2))"
      ],
      "metadata": {
        "colab": {
          "base_uri": "https://localhost:8080/"
        },
        "id": "yDFvA4UPpDeJ",
        "outputId": "a1a55549-8026-4e8a-9f96-6cea06f4cbd3"
      },
      "execution_count": null,
      "outputs": [
        {
          "output_type": "stream",
          "name": "stdout",
          "text": [
            "[[ 42  54]\n",
            " [ 84 135]]\n"
          ]
        }
      ]
    },
    {
      "cell_type": "code",
      "source": [
        "print(arr1 @ arr2)"
      ],
      "metadata": {
        "colab": {
          "base_uri": "https://localhost:8080/"
        },
        "id": "jOrS00EVpR8Q",
        "outputId": "d467eff9-1aef-4a56-d324-071ade75a8da"
      },
      "execution_count": null,
      "outputs": [
        {
          "output_type": "stream",
          "name": "stdout",
          "text": [
            "[[ 42  54]\n",
            " [ 84 135]]\n"
          ]
        }
      ]
    },
    {
      "cell_type": "code",
      "source": [
        "print(mat1)\n",
        "print(mat2)"
      ],
      "metadata": {
        "colab": {
          "base_uri": "https://localhost:8080/"
        },
        "id": "ZTE9uT4lfa8m",
        "outputId": "36519bb1-5fbb-4064-8046-22a36537872c"
      },
      "execution_count": null,
      "outputs": [
        {
          "output_type": "stream",
          "name": "stdout",
          "text": [
            "[[1 5]\n",
            " [6 9]]\n",
            "[[2 9]\n",
            " [8 9]]\n"
          ]
        }
      ]
    },
    {
      "cell_type": "code",
      "source": [
        "# Identity matrix"
      ],
      "metadata": {
        "id": "czXiLItxpVg3"
      },
      "execution_count": null,
      "outputs": []
    },
    {
      "cell_type": "code",
      "source": [
        "I = np.eye(4)\n",
        "print(I)"
      ],
      "metadata": {
        "colab": {
          "base_uri": "https://localhost:8080/"
        },
        "id": "9HI3EtqiprvG",
        "outputId": "cf4cfbd3-187d-4f01-cc6a-84521572702d"
      },
      "execution_count": null,
      "outputs": [
        {
          "output_type": "stream",
          "name": "stdout",
          "text": [
            "[[1. 0. 0. 0.]\n",
            " [0. 1. 0. 0.]\n",
            " [0. 0. 1. 0.]\n",
            " [0. 0. 0. 1.]]\n"
          ]
        }
      ]
    },
    {
      "cell_type": "code",
      "source": [
        "I1 = np.eye(3, dtype=int)\n",
        "print(I1)"
      ],
      "metadata": {
        "colab": {
          "base_uri": "https://localhost:8080/"
        },
        "id": "0RYSKPq0pzxa",
        "outputId": "5de5ba2a-b76a-4d78-f6b8-4a218b3e7395"
      },
      "execution_count": null,
      "outputs": [
        {
          "output_type": "stream",
          "name": "stdout",
          "text": [
            "[[1 0 0]\n",
            " [0 1 0]\n",
            " [0 0 1]]\n"
          ]
        }
      ]
    },
    {
      "cell_type": "code",
      "source": [
        "# Diagonal matrix"
      ],
      "metadata": {
        "id": "Xe_vkFZPqCB4"
      },
      "execution_count": null,
      "outputs": []
    },
    {
      "cell_type": "code",
      "source": [
        "D = np.diag([5,7,8,10])\n",
        "print(D)\n",
        "print(type(D))"
      ],
      "metadata": {
        "colab": {
          "base_uri": "https://localhost:8080/"
        },
        "id": "1ggFkwtaqR3Q",
        "outputId": "ee70356f-b482-4568-a483-cee5cc8e223e"
      },
      "execution_count": null,
      "outputs": [
        {
          "output_type": "stream",
          "name": "stdout",
          "text": [
            "[[ 5  0  0  0]\n",
            " [ 0  7  0  0]\n",
            " [ 0  0  8  0]\n",
            " [ 0  0  0 10]]\n",
            "<class 'numpy.ndarray'>\n"
          ]
        }
      ]
    },
    {
      "cell_type": "code",
      "source": [
        "A1 = np.array([[1,2],[3,4]])\n",
        "A2 = np.array([[3,4],[5,6]])\n",
        "print(A1)\n",
        "print(A2)"
      ],
      "metadata": {
        "colab": {
          "base_uri": "https://localhost:8080/"
        },
        "id": "PhUCdgJ8qktS",
        "outputId": "91ab6189-e01b-4705-b214-8ad80a49455e"
      },
      "execution_count": null,
      "outputs": [
        {
          "output_type": "stream",
          "name": "stdout",
          "text": [
            "[[1 2]\n",
            " [3 4]]\n",
            "[[3 4]\n",
            " [5 6]]\n"
          ]
        }
      ]
    },
    {
      "cell_type": "code",
      "source": [
        "A3 =np.hstack((A1,A2))\n",
        "print(A3)"
      ],
      "metadata": {
        "colab": {
          "base_uri": "https://localhost:8080/"
        },
        "id": "ugnUHyMyrBpI",
        "outputId": "03888e68-4283-418d-b1c0-399748ef0cef"
      },
      "execution_count": null,
      "outputs": [
        {
          "output_type": "stream",
          "name": "stdout",
          "text": [
            "[[1 2 3 4]\n",
            " [3 4 5 6]]\n"
          ]
        }
      ]
    },
    {
      "cell_type": "code",
      "source": [
        "A4 = np.vstack((A1,A2))\n",
        "print(A4)"
      ],
      "metadata": {
        "colab": {
          "base_uri": "https://localhost:8080/"
        },
        "id": "qE2Az8sdrtFO",
        "outputId": "791fdabf-acdd-4877-ccdc-c26607317707"
      },
      "execution_count": null,
      "outputs": [
        {
          "output_type": "stream",
          "name": "stdout",
          "text": [
            "[[1 2]\n",
            " [3 4]\n",
            " [3 4]\n",
            " [5 6]]\n"
          ]
        }
      ]
    },
    {
      "cell_type": "code",
      "source": [
        "ar1 = np.array([1,2,3,5,6])\n",
        "ar2 = np.array([2,3,6,7,1])\n"
      ],
      "metadata": {
        "id": "5sgNMwCpr6BE"
      },
      "execution_count": null,
      "outputs": []
    },
    {
      "cell_type": "code",
      "source": [
        "# set operation"
      ],
      "metadata": {
        "id": "qN-E8kWutxcr"
      },
      "execution_count": null,
      "outputs": []
    },
    {
      "cell_type": "code",
      "source": [
        "inter = np.intersect1d(ar1,ar2)\n",
        "print(inter)"
      ],
      "metadata": {
        "colab": {
          "base_uri": "https://localhost:8080/"
        },
        "id": "JlqT-IDStzzn",
        "outputId": "6e29f51d-6b59-4e6b-87c1-975d8c01c65b"
      },
      "execution_count": null,
      "outputs": [
        {
          "output_type": "stream",
          "name": "stdout",
          "text": [
            "[1 2 3 6]\n"
          ]
        }
      ]
    },
    {
      "cell_type": "code",
      "source": [
        "union = np.union1d(ar1,ar2)\n",
        "print(union)\n",
        "print(type(union))"
      ],
      "metadata": {
        "colab": {
          "base_uri": "https://localhost:8080/"
        },
        "id": "5FZojzBcuGu6",
        "outputId": "515811c3-32d1-4ba9-fa7d-e4e0c5398078"
      },
      "execution_count": null,
      "outputs": [
        {
          "output_type": "stream",
          "name": "stdout",
          "text": [
            "[1 2 3 5 6 7]\n",
            "<class 'numpy.ndarray'>\n"
          ]
        }
      ]
    },
    {
      "cell_type": "code",
      "source": [
        "# Difference in ar1 not in ar2\n",
        "# op: [5]"
      ],
      "metadata": {
        "id": "_0tmzvdQuhlz"
      },
      "execution_count": null,
      "outputs": []
    },
    {
      "cell_type": "code",
      "source": [
        "diff1 = np.setdiff1d(ar1,ar2)\n",
        "print(diff1)"
      ],
      "metadata": {
        "colab": {
          "base_uri": "https://localhost:8080/"
        },
        "id": "u6SzHhoaurVj",
        "outputId": "c5ae1f8f-7bab-4c6d-ee31-fed241f7a4ed"
      },
      "execution_count": null,
      "outputs": [
        {
          "output_type": "stream",
          "name": "stdout",
          "text": [
            "[5]\n"
          ]
        }
      ]
    },
    {
      "cell_type": "code",
      "source": [
        "# difference elements ar2 not from ar1\n",
        "# op : [7]"
      ],
      "metadata": {
        "id": "im5BdhQ6vHMn"
      },
      "execution_count": null,
      "outputs": []
    },
    {
      "cell_type": "code",
      "source": [
        "diff2 = np.setdiff1d(ar2,ar1)\n",
        "print(diff2)"
      ],
      "metadata": {
        "colab": {
          "base_uri": "https://localhost:8080/"
        },
        "id": "DCBXVY_RvT7i",
        "outputId": "c78d4317-eb3e-4d7e-8780-7a27c1ea0fe2"
      },
      "execution_count": null,
      "outputs": [
        {
          "output_type": "stream",
          "name": "stdout",
          "text": [
            "[7]\n"
          ]
        }
      ]
    },
    {
      "cell_type": "code",
      "source": [
        "# Symmetric difference\n",
        "# op : [5,7]"
      ],
      "metadata": {
        "id": "aDvhnNnDvb-N"
      },
      "execution_count": null,
      "outputs": []
    },
    {
      "cell_type": "code",
      "source": [
        "sym = np.setxor1d(ar1,ar2)\n",
        "print(sym)"
      ],
      "metadata": {
        "colab": {
          "base_uri": "https://localhost:8080/"
        },
        "id": "cpjUj84wvk8Q",
        "outputId": "406c9aec-b475-4e32-98c5-91d468f0982d"
      },
      "execution_count": null,
      "outputs": [
        {
          "output_type": "stream",
          "name": "stdout",
          "text": [
            "[5 7]\n"
          ]
        }
      ]
    },
    {
      "cell_type": "code",
      "source": [
        "concat = np.concatenate((ar1,ar2))\n",
        "print(concat)"
      ],
      "metadata": {
        "colab": {
          "base_uri": "https://localhost:8080/"
        },
        "id": "h8KCh6KrvtJS",
        "outputId": "431c67f4-d0ef-4ebc-c251-572902f70b28"
      },
      "execution_count": null,
      "outputs": [
        {
          "output_type": "stream",
          "name": "stdout",
          "text": [
            "[1 2 3 5 6 2 3 6 7 1]\n"
          ]
        }
      ]
    },
    {
      "cell_type": "code",
      "source": [
        "concat2 = np.concat((ar1,ar2))\n",
        "print(concat2)\n",
        "print(type(concat2))"
      ],
      "metadata": {
        "colab": {
          "base_uri": "https://localhost:8080/"
        },
        "id": "DKm-xFu0wWOa",
        "outputId": "90f712fc-6712-47bd-c036-ca099c01b2ea"
      },
      "execution_count": null,
      "outputs": [
        {
          "output_type": "stream",
          "name": "stdout",
          "text": [
            "[1 2 3 5 6 2 3 6 7 1]\n",
            "<class 'numpy.ndarray'>\n"
          ]
        }
      ]
    },
    {
      "cell_type": "code",
      "source": [
        "l = [1,4,5,6,8,99,1]\n",
        "print(l.count(1))"
      ],
      "metadata": {
        "colab": {
          "base_uri": "https://localhost:8080/"
        },
        "id": "-Clav5DMPOAW",
        "outputId": "23776992-b27e-47ef-d276-4a953b4855a2"
      },
      "execution_count": null,
      "outputs": [
        {
          "output_type": "stream",
          "name": "stdout",
          "text": [
            "2\n"
          ]
        }
      ]
    },
    {
      "cell_type": "code",
      "source": [
        "count1 = concat2.count(1)\n",
        "print(count1)\n"
      ],
      "metadata": {
        "colab": {
          "base_uri": "https://localhost:8080/",
          "height": 158
        },
        "id": "SJMIzC88wnt_",
        "outputId": "d3918631-aed8-46d7-b762-58999ee50413"
      },
      "execution_count": null,
      "outputs": [
        {
          "output_type": "error",
          "ename": "AttributeError",
          "evalue": "'numpy.ndarray' object has no attribute 'count'",
          "traceback": [
            "\u001b[0;31m---------------------------------------------------------------------------\u001b[0m",
            "\u001b[0;31mAttributeError\u001b[0m                            Traceback (most recent call last)",
            "\u001b[0;32m<ipython-input-47-165a9f4f2e45>\u001b[0m in \u001b[0;36m<cell line: 0>\u001b[0;34m()\u001b[0m\n\u001b[0;32m----> 1\u001b[0;31m \u001b[0mcount1\u001b[0m \u001b[0;34m=\u001b[0m \u001b[0mconcat2\u001b[0m\u001b[0;34m.\u001b[0m\u001b[0mcount\u001b[0m\u001b[0;34m(\u001b[0m\u001b[0;36m1\u001b[0m\u001b[0;34m)\u001b[0m\u001b[0;34m\u001b[0m\u001b[0;34m\u001b[0m\u001b[0m\n\u001b[0m\u001b[1;32m      2\u001b[0m \u001b[0mprint\u001b[0m\u001b[0;34m(\u001b[0m\u001b[0mcount1\u001b[0m\u001b[0;34m)\u001b[0m\u001b[0;34m\u001b[0m\u001b[0;34m\u001b[0m\u001b[0m\n",
            "\u001b[0;31mAttributeError\u001b[0m: 'numpy.ndarray' object has no attribute 'count'"
          ]
        }
      ]
    },
    {
      "cell_type": "code",
      "source": [
        "count1 = list(concat2).count(1)\n",
        "print(count1)\n"
      ],
      "metadata": {
        "colab": {
          "base_uri": "https://localhost:8080/"
        },
        "id": "iOsomhfyxK_t",
        "outputId": "f4c66b5e-111d-4eb8-e8ba-7f8b69d562a1"
      },
      "execution_count": null,
      "outputs": [
        {
          "output_type": "stream",
          "name": "stdout",
          "text": [
            "2\n"
          ]
        }
      ]
    },
    {
      "cell_type": "markdown",
      "source": [
        "# Random number:\n",
        "- Random number does not mean a different number everytime\n",
        "- Random means something that cannot be predicted logically\n",
        "- Ex: OTP, Password,Capcha\n",
        "- Numpy offere random module to work with random\n",
        "- There are two methods"
      ],
      "metadata": {
        "id": "W8PIWZFoT4xt"
      }
    },
    {
      "cell_type": "code",
      "source": [
        "import numpy as np"
      ],
      "metadata": {
        "id": "hLmqOeVHxeTL"
      },
      "execution_count": null,
      "outputs": []
    },
    {
      "cell_type": "code",
      "source": [
        "no = np.random.randint(100)\n",
        "print(no)"
      ],
      "metadata": {
        "colab": {
          "base_uri": "https://localhost:8080/"
        },
        "id": "3kAarSXFUueF",
        "outputId": "1d6b530d-2023-48fb-c8ae-df8cbe9162bb"
      },
      "execution_count": null,
      "outputs": [
        {
          "output_type": "stream",
          "name": "stdout",
          "text": [
            "44\n"
          ]
        }
      ]
    },
    {
      "cell_type": "code",
      "source": [
        "no1 = np.random.randint(100000)\n",
        "print(no1)"
      ],
      "metadata": {
        "colab": {
          "base_uri": "https://localhost:8080/"
        },
        "id": "tyBGebGFU9Br",
        "outputId": "16410753-2174-4ac3-8702-173a9eab9b45"
      },
      "execution_count": null,
      "outputs": [
        {
          "output_type": "stream",
          "name": "stdout",
          "text": [
            "53908\n"
          ]
        }
      ]
    },
    {
      "cell_type": "code",
      "source": [
        "no = np.random.randint(5000,10000)\n",
        "print(no)"
      ],
      "metadata": {
        "colab": {
          "base_uri": "https://localhost:8080/"
        },
        "id": "ZHqFfrlpVVfz",
        "outputId": "494520da-762f-4f2d-827d-eded8ef70fd6"
      },
      "execution_count": null,
      "outputs": [
        {
          "output_type": "stream",
          "name": "stdout",
          "text": [
            "6824\n"
          ]
        }
      ]
    },
    {
      "cell_type": "code",
      "source": [
        "no5 = np.random.randint(399,400)\n",
        "print(no5)"
      ],
      "metadata": {
        "colab": {
          "base_uri": "https://localhost:8080/"
        },
        "id": "9GdWjCSjQ9ZC",
        "outputId": "65a3e25f-a596-4d3e-c947-70640f1fe5ae"
      },
      "execution_count": null,
      "outputs": [
        {
          "output_type": "stream",
          "name": "stdout",
          "text": [
            "399\n"
          ]
        }
      ]
    },
    {
      "cell_type": "code",
      "source": [
        "no6 = np.random.randint(100,999,3)\n",
        "print(no6)"
      ],
      "metadata": {
        "colab": {
          "base_uri": "https://localhost:8080/"
        },
        "id": "dgOOnV92SYt2",
        "outputId": "1a01ee27-cc8d-4a4d-a7d3-17dc48e31d42"
      },
      "execution_count": null,
      "outputs": [
        {
          "output_type": "stream",
          "name": "stdout",
          "text": [
            "[770 668 503]\n"
          ]
        }
      ]
    },
    {
      "cell_type": "markdown",
      "source": [
        "- Random method take size parameter where you can specify the shape of array"
      ],
      "metadata": {
        "id": "quv7S5LlVyq_"
      }
    },
    {
      "cell_type": "code",
      "source": [
        "from numpy import random"
      ],
      "metadata": {
        "id": "0fxqloYMVcqK"
      },
      "execution_count": null,
      "outputs": []
    },
    {
      "cell_type": "code",
      "source": [
        "no2 = random.randint(10000, size=5)\n",
        "print(no2)"
      ],
      "metadata": {
        "colab": {
          "base_uri": "https://localhost:8080/"
        },
        "id": "6zoMJo5wWFc2",
        "outputId": "7350b6bc-5e1d-439d-91c7-22915ea2e9d2"
      },
      "execution_count": null,
      "outputs": [
        {
          "output_type": "stream",
          "name": "stdout",
          "text": [
            "[1400 7398 8800 2301 1399]\n"
          ]
        }
      ]
    },
    {
      "cell_type": "markdown",
      "source": [
        "- rand() method returns random float between 0 to 1"
      ],
      "metadata": {
        "id": "Fjb7O-BkWc1j"
      }
    },
    {
      "cell_type": "code",
      "source": [
        "import numpy.random as npr"
      ],
      "metadata": {
        "id": "Jiq018XXWNvF"
      },
      "execution_count": null,
      "outputs": []
    },
    {
      "cell_type": "code",
      "source": [
        "no3 = npr.rand()\n",
        "print(no3)"
      ],
      "metadata": {
        "colab": {
          "base_uri": "https://localhost:8080/"
        },
        "id": "kpAXPCNNWoay",
        "outputId": "35afecc9-620e-4403-a616-bc6ead7e6270"
      },
      "execution_count": null,
      "outputs": [
        {
          "output_type": "stream",
          "name": "stdout",
          "text": [
            "0.06314545812530614\n"
          ]
        }
      ]
    },
    {
      "cell_type": "code",
      "source": [
        "no9 = np.random.rand()\n",
        "print(no9)"
      ],
      "metadata": {
        "colab": {
          "base_uri": "https://localhost:8080/"
        },
        "id": "bsQEdlKZTAee",
        "outputId": "5ee501e9-7da0-4d5f-e4e7-d75a88514905"
      },
      "execution_count": null,
      "outputs": [
        {
          "output_type": "stream",
          "name": "stdout",
          "text": [
            "0.26953976040226535\n"
          ]
        }
      ]
    },
    {
      "cell_type": "code",
      "source": [
        "no6 = npr.rand(4)\n",
        "print(no6)"
      ],
      "metadata": {
        "colab": {
          "base_uri": "https://localhost:8080/"
        },
        "id": "6GMZvftOXTyi",
        "outputId": "c2857f80-e0e3-4caa-c1c4-17a33a1ba3da"
      },
      "execution_count": null,
      "outputs": [
        {
          "output_type": "stream",
          "name": "stdout",
          "text": [
            "[0.14276762 0.9346664  0.25512573 0.55711184]\n"
          ]
        }
      ]
    },
    {
      "cell_type": "code",
      "source": [
        "no4 = npr.random()\n",
        "print(no4)"
      ],
      "metadata": {
        "colab": {
          "base_uri": "https://localhost:8080/"
        },
        "id": "1XBCpelyWvKo",
        "outputId": "56409630-a2f6-428d-fca6-bb357b7b76e1"
      },
      "execution_count": null,
      "outputs": [
        {
          "output_type": "stream",
          "name": "stdout",
          "text": [
            "0.2582918148126725\n"
          ]
        }
      ]
    },
    {
      "cell_type": "code",
      "source": [
        "n = np.random.random()\n",
        "print(n)"
      ],
      "metadata": {
        "colab": {
          "base_uri": "https://localhost:8080/"
        },
        "id": "HlDY2_5rDYg_",
        "outputId": "83390c46-ccdd-4bce-b6dc-75442f8558f8"
      },
      "execution_count": null,
      "outputs": [
        {
          "output_type": "stream",
          "name": "stdout",
          "text": [
            "0.7415028519801437\n"
          ]
        }
      ]
    },
    {
      "cell_type": "code",
      "source": [
        "n1 = np.random()\n",
        "print(n1)"
      ],
      "metadata": {
        "colab": {
          "base_uri": "https://localhost:8080/",
          "height": 158
        },
        "id": "JovDHFRADdXg",
        "outputId": "28b0eec3-4bca-479f-e837-c24a6fe0422a"
      },
      "execution_count": null,
      "outputs": [
        {
          "output_type": "error",
          "ename": "TypeError",
          "evalue": "'module' object is not callable",
          "traceback": [
            "\u001b[0;31m---------------------------------------------------------------------------\u001b[0m",
            "\u001b[0;31mTypeError\u001b[0m                                 Traceback (most recent call last)",
            "\u001b[0;32m/tmp/ipython-input-10-1524390941.py\u001b[0m in \u001b[0;36m<cell line: 0>\u001b[0;34m()\u001b[0m\n\u001b[0;32m----> 1\u001b[0;31m \u001b[0mn1\u001b[0m \u001b[0;34m=\u001b[0m \u001b[0mnp\u001b[0m\u001b[0;34m.\u001b[0m\u001b[0mrandom\u001b[0m\u001b[0;34m(\u001b[0m\u001b[0;34m)\u001b[0m\u001b[0;34m\u001b[0m\u001b[0;34m\u001b[0m\u001b[0m\n\u001b[0m\u001b[1;32m      2\u001b[0m \u001b[0mprint\u001b[0m\u001b[0;34m(\u001b[0m\u001b[0mn1\u001b[0m\u001b[0;34m)\u001b[0m\u001b[0;34m\u001b[0m\u001b[0;34m\u001b[0m\u001b[0m\n",
            "\u001b[0;31mTypeError\u001b[0m: 'module' object is not callable"
          ]
        }
      ]
    },
    {
      "cell_type": "code",
      "source": [
        "no10= np.random.random(4)\n",
        "print(no10)"
      ],
      "metadata": {
        "colab": {
          "base_uri": "https://localhost:8080/"
        },
        "id": "M4KXO6K0T1PU",
        "outputId": "766e4aad-1cf6-4405-a2ad-531f51aad470"
      },
      "execution_count": null,
      "outputs": [
        {
          "output_type": "stream",
          "name": "stdout",
          "text": [
            "[0.34474049 0.96718938 0.27155223 0.55402476]\n"
          ]
        }
      ]
    },
    {
      "cell_type": "code",
      "source": [
        "no5 = npr.random(4)\n",
        "print(no5)"
      ],
      "metadata": {
        "colab": {
          "base_uri": "https://localhost:8080/"
        },
        "id": "_JySf0LGXGtg",
        "outputId": "0ae7bce9-ec7e-494f-d152-f2733c33e65f"
      },
      "execution_count": null,
      "outputs": [
        {
          "output_type": "stream",
          "name": "stdout",
          "text": [
            "[0.97421306 0.97833026 0.31575562 0.85544652]\n"
          ]
        }
      ]
    },
    {
      "cell_type": "code",
      "source": [
        "no7 = npr.rand(4,2)\n",
        "print(no7)"
      ],
      "metadata": {
        "colab": {
          "base_uri": "https://localhost:8080/"
        },
        "id": "F2G_ReJ5XMEZ",
        "outputId": "6b200806-6f97-4131-d10b-711a4b844b1f"
      },
      "execution_count": null,
      "outputs": [
        {
          "output_type": "stream",
          "name": "stdout",
          "text": [
            "[[0.29005464 0.94170738]\n",
            " [0.75890505 0.40508018]\n",
            " [0.29007017 0.38549709]\n",
            " [0.46880026 0.05903375]]\n"
          ]
        }
      ]
    },
    {
      "cell_type": "code",
      "source": [
        "no9 = npr.random_integers(2,15)\n",
        "print(no9)"
      ],
      "metadata": {
        "colab": {
          "base_uri": "https://localhost:8080/"
        },
        "id": "dly84l9gYbMx",
        "outputId": "10a68713-8714-4155-c2ac-949decca244f"
      },
      "execution_count": null,
      "outputs": [
        {
          "output_type": "stream",
          "name": "stdout",
          "text": [
            "13\n"
          ]
        },
        {
          "output_type": "stream",
          "name": "stderr",
          "text": [
            "<ipython-input-27-36550051a49d>:1: DeprecationWarning: This function is deprecated. Please call randint(2, 15 + 1) instead\n",
            "  no9 = npr.random_integers(2,15)\n"
          ]
        }
      ]
    },
    {
      "cell_type": "code",
      "source": [
        "no8 = npr.random_integers(2,15,3)\n",
        "print(no8)"
      ],
      "metadata": {
        "colab": {
          "base_uri": "https://localhost:8080/"
        },
        "id": "ZtaIP59GXoMK",
        "outputId": "82f6010b-8cd1-45df-ae48-c64049cfeffc"
      },
      "execution_count": null,
      "outputs": [
        {
          "output_type": "stream",
          "name": "stdout",
          "text": [
            "[13 11 12]\n"
          ]
        },
        {
          "output_type": "stream",
          "name": "stderr",
          "text": [
            "<ipython-input-26-ba0ba7d95ae2>:1: DeprecationWarning: This function is deprecated. Please call randint(2, 15 + 1) instead\n",
            "  no8 = npr.random_integers(2,15,3)\n"
          ]
        }
      ]
    },
    {
      "cell_type": "code",
      "source": [
        "no_choice = npr.choice([1,5,99,78,65,200])\n",
        "print(\"Random choice from list: \",no_choice)"
      ],
      "metadata": {
        "colab": {
          "base_uri": "https://localhost:8080/"
        },
        "id": "lDcJsslBYJAl",
        "outputId": "868d4d6b-a1df-4ed8-a740-ee1eb0e0ca3b"
      },
      "execution_count": null,
      "outputs": [
        {
          "output_type": "stream",
          "name": "stdout",
          "text": [
            "Random choice from list:  200\n"
          ]
        }
      ]
    },
    {
      "cell_type": "code",
      "source": [
        "no_choice = npr.choice([1,5,99,78,65,200])\n",
        "print(\"Random choice from list: \",no_choice)"
      ],
      "metadata": {
        "colab": {
          "base_uri": "https://localhost:8080/"
        },
        "id": "b9Kn6tT8ZJw0",
        "outputId": "b24bbd92-8d62-47c7-ad14-9f43c7e0d10b"
      },
      "execution_count": null,
      "outputs": [
        {
          "output_type": "stream",
          "name": "stdout",
          "text": [
            "Random choice from list:  78\n"
          ]
        }
      ]
    },
    {
      "cell_type": "markdown",
      "source": [
        "# Extra for reading"
      ],
      "metadata": {
        "id": "UZzXNWpyfnaU"
      }
    },
    {
      "cell_type": "code",
      "source": [
        "import numpy as np"
      ],
      "metadata": {
        "id": "JsDjdh7RZPRj"
      },
      "execution_count": null,
      "outputs": []
    },
    {
      "cell_type": "code",
      "source": [
        "n1 = np.array([1,2,3,4,5,6,7,8,9,10])\n",
        "n2 = np.arange(15)\n",
        "print(n1)\n",
        "print(n2)"
      ],
      "metadata": {
        "colab": {
          "base_uri": "https://localhost:8080/"
        },
        "id": "_yaduXltfr7H",
        "outputId": "e18ceab3-58c0-48c8-cb3c-d07692829feb"
      },
      "execution_count": null,
      "outputs": [
        {
          "output_type": "stream",
          "name": "stdout",
          "text": [
            "[ 1  2  3  4  5  6  7  8  9 10]\n",
            "[ 0  1  2  3  4  5  6  7  8  9 10 11 12 13 14]\n"
          ]
        }
      ]
    },
    {
      "cell_type": "code",
      "source": [
        "n3 = np.random.randint(10,20,5)\n",
        "print(n3)\n"
      ],
      "metadata": {
        "colab": {
          "base_uri": "https://localhost:8080/"
        },
        "id": "PNjHtrg0f50z",
        "outputId": "61b5e951-d840-4d05-9b03-701115a665b1"
      },
      "execution_count": null,
      "outputs": [
        {
          "output_type": "stream",
          "name": "stdout",
          "text": [
            "[13 18 16 10 17]\n"
          ]
        }
      ]
    },
    {
      "cell_type": "code",
      "source": [
        "n5 = np.random.randint(10,20,size=5)\n",
        "print(n5)"
      ],
      "metadata": {
        "colab": {
          "base_uri": "https://localhost:8080/"
        },
        "id": "1nOWFwaTgTtw",
        "outputId": "3855d500-16e6-4116-aa8a-b3e724dfbd3d"
      },
      "execution_count": null,
      "outputs": [
        {
          "output_type": "stream",
          "name": "stdout",
          "text": [
            "[18 10 10 12 11]\n"
          ]
        }
      ]
    },
    {
      "cell_type": "code",
      "source": [
        "n6 = np.random.rand()\n",
        "print(n6)\n",
        "print(type(n6))"
      ],
      "metadata": {
        "colab": {
          "base_uri": "https://localhost:8080/"
        },
        "id": "ZF7WIfH8gZSZ",
        "outputId": "a4fcf017-787c-44a8-8fce-3b17fd3fc10a"
      },
      "execution_count": null,
      "outputs": [
        {
          "output_type": "stream",
          "name": "stdout",
          "text": [
            "0.6501596906914561\n",
            "<class 'float'>\n"
          ]
        }
      ]
    },
    {
      "cell_type": "code",
      "source": [
        "n = np.random.rand(1)\n",
        "print(n)\n",
        "print(type(n))"
      ],
      "metadata": {
        "colab": {
          "base_uri": "https://localhost:8080/"
        },
        "id": "VuKPbLli7V2V",
        "outputId": "e9c000c6-4af0-404d-d235-c84731a755c1"
      },
      "execution_count": null,
      "outputs": [
        {
          "output_type": "stream",
          "name": "stdout",
          "text": [
            "[0.34407031]\n",
            "<class 'numpy.ndarray'>\n"
          ]
        }
      ]
    },
    {
      "cell_type": "code",
      "source": [
        "n7 = np.random.rand(5)\n",
        "print(n7)"
      ],
      "metadata": {
        "colab": {
          "base_uri": "https://localhost:8080/"
        },
        "id": "M3zlET9fgiZR",
        "outputId": "3219c5ce-7f7d-4da7-ebef-322c33d3a2bf"
      },
      "execution_count": null,
      "outputs": [
        {
          "output_type": "stream",
          "name": "stdout",
          "text": [
            "[0.73256392 0.16935489 0.35595672 0.50264682 0.12898343]\n"
          ]
        }
      ]
    },
    {
      "cell_type": "code",
      "source": [
        "n8 = np.random.rand(5,2)\n",
        "print(n8)"
      ],
      "metadata": {
        "colab": {
          "base_uri": "https://localhost:8080/"
        },
        "id": "3gAMegZMgl2F",
        "outputId": "3264a430-fb14-475d-f924-d446f7cc7d95"
      },
      "execution_count": null,
      "outputs": [
        {
          "output_type": "stream",
          "name": "stdout",
          "text": [
            "[[0.69123883 0.74358769]\n",
            " [0.96285608 0.59809819]\n",
            " [0.16176136 0.76548926]\n",
            " [0.04555172 0.26956052]\n",
            " [0.13173746 0.66472702]]\n"
          ]
        }
      ]
    },
    {
      "cell_type": "code",
      "source": [
        "n = np.random.random()\n",
        "print(n)"
      ],
      "metadata": {
        "colab": {
          "base_uri": "https://localhost:8080/"
        },
        "id": "cWLZJpxRhb8j",
        "outputId": "02288377-0395-481d-8289-080827d3c950"
      },
      "execution_count": null,
      "outputs": [
        {
          "output_type": "stream",
          "name": "stdout",
          "text": [
            "0.1967760149956772\n"
          ]
        }
      ]
    },
    {
      "cell_type": "code",
      "source": [
        "n9 = np.random.random(5)\n",
        "print(n9)"
      ],
      "metadata": {
        "colab": {
          "base_uri": "https://localhost:8080/"
        },
        "id": "xGPzT9zjgrl0",
        "outputId": "2d849a87-b3bb-42e2-fa6a-eac8cb87d108"
      },
      "execution_count": null,
      "outputs": [
        {
          "output_type": "stream",
          "name": "stdout",
          "text": [
            "[9.73337445e-01 4.39849445e-01 2.45428921e-04 5.03919180e-01\n",
            " 2.65944122e-02]\n"
          ]
        }
      ]
    },
    {
      "cell_type": "code",
      "source": [
        "n10 = np.random.random(4)\n",
        "print(n10)"
      ],
      "metadata": {
        "colab": {
          "base_uri": "https://localhost:8080/"
        },
        "id": "5tTSF9n-gzuF",
        "outputId": "d1d74630-e86b-4824-eca8-d35592de56c7"
      },
      "execution_count": null,
      "outputs": [
        {
          "output_type": "stream",
          "name": "stdout",
          "text": [
            "[0.98394639 0.90464379 0.13984854 0.10220913]\n"
          ]
        }
      ]
    },
    {
      "cell_type": "markdown",
      "source": [
        "# Extra for reading:"
      ],
      "metadata": {
        "id": "MHsifWctSX5z"
      }
    },
    {
      "cell_type": "markdown",
      "source": [
        "## Difference between range() and arange()"
      ],
      "metadata": {
        "id": "QT2XGXMLSbdS"
      }
    },
    {
      "cell_type": "markdown",
      "source": [
        "| Feature                 | `range()`               | `np.arange()`                  |\n",
        "| ----------------------- | ----------------------- | ------------------------------ |\n",
        "| **Library**             | Built-in                | NumPy                          |\n",
        "| **Returns**             | `range` object          | `numpy.ndarray` (NumPy array)  |\n",
        "| **Supports floats**     | ❌ No                    | ✅ Yes                          |\n",
        "| **Memory-efficient**    | ✅ Yes (lazy evaluation) | ❌ No (generates full array)    |\n",
        "| **Use in loops**        | ✅ Common                | 👎 Not typical                 |\n",
        "| **Use in calculations** | 👎 Limited              | ✅ Ideal for numeric operations |\n"
      ],
      "metadata": {
        "id": "rTmpuCRdSRIE"
      }
    },
    {
      "cell_type": "code",
      "source": [
        "for i in range(1, 10, 2):\n",
        "    print(i)\n",
        "# Output: 1, 3, 5, 7, 9\n"
      ],
      "metadata": {
        "colab": {
          "base_uri": "https://localhost:8080/"
        },
        "id": "ocHydTE_SqYS",
        "outputId": "7e84f2f1-4803-4352-8fc5-225fedfa6cf4"
      },
      "execution_count": null,
      "outputs": [
        {
          "output_type": "stream",
          "name": "stdout",
          "text": [
            "1\n",
            "3\n",
            "5\n",
            "7\n",
            "9\n"
          ]
        }
      ]
    },
    {
      "cell_type": "code",
      "source": [
        "import numpy as np\n",
        "\n",
        "arr = np.arange(0, 5.5, 0.5)\n",
        "print(arr)\n",
        "# Output: [0.  0.5 1.  1.5 2.  ... 5.]\n"
      ],
      "metadata": {
        "colab": {
          "base_uri": "https://localhost:8080/"
        },
        "id": "aAopy7IuSwrO",
        "outputId": "7a973def-1639-4f08-de12-e1fcdfceaaaa"
      },
      "execution_count": null,
      "outputs": [
        {
          "output_type": "stream",
          "name": "stdout",
          "text": [
            "[0.  0.5 1.  1.5 2.  2.5 3.  3.5 4.  4.5 5. ]\n"
          ]
        }
      ]
    },
    {
      "cell_type": "code",
      "source": [
        "l = list(range(5))\n",
        "print(l)"
      ],
      "metadata": {
        "id": "IMo_bBbHSz1D",
        "colab": {
          "base_uri": "https://localhost:8080/"
        },
        "outputId": "799ac30a-a39a-48a0-a0c4-92df5c9f5395"
      },
      "execution_count": null,
      "outputs": [
        {
          "output_type": "stream",
          "name": "stdout",
          "text": [
            "[0, 1, 2, 3, 4]\n"
          ]
        }
      ]
    },
    {
      "cell_type": "code",
      "source": [
        "p = range(5)\n",
        "print(p)"
      ],
      "metadata": {
        "colab": {
          "base_uri": "https://localhost:8080/"
        },
        "id": "45oPSE8TJwNT",
        "outputId": "e4a109de-bb3c-49ff-9603-3b532710633a"
      },
      "execution_count": null,
      "outputs": [
        {
          "output_type": "stream",
          "name": "stdout",
          "text": [
            "range(0, 5)\n"
          ]
        }
      ]
    },
    {
      "cell_type": "code",
      "source": [
        "ar1 = np.arange(0,5.5)\n",
        "print(ar1)"
      ],
      "metadata": {
        "colab": {
          "base_uri": "https://localhost:8080/"
        },
        "id": "gNICi-53J3FK",
        "outputId": "8882e035-9ac5-466e-e01f-dcdbf1ef965c"
      },
      "execution_count": null,
      "outputs": [
        {
          "output_type": "stream",
          "name": "stdout",
          "text": [
            "[0. 1. 2. 3. 4. 5.]\n"
          ]
        }
      ]
    },
    {
      "cell_type": "code",
      "source": [],
      "metadata": {
        "id": "c_wFkjk-KatU"
      },
      "execution_count": null,
      "outputs": []
    }
  ]
}